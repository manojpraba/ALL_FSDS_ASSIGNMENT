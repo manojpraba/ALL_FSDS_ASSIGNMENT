{
  "nbformat": 4,
  "nbformat_minor": 0,
  "metadata": {
    "colab": {
      "provenance": [],
      "authorship_tag": "ABX9TyNQT+VAM+q2IyIq9nRSjS5O",
      "include_colab_link": true
    },
    "kernelspec": {
      "name": "python3",
      "display_name": "Python 3"
    },
    "language_info": {
      "name": "python"
    }
  },
  "cells": [
    {
      "cell_type": "markdown",
      "metadata": {
        "id": "view-in-github",
        "colab_type": "text"
      },
      "source": [
        "<a href=\"https://colab.research.google.com/github/manojpraba/ALL_FSDS_ASSIGNMENT/blob/main/Week1/01_July_OOPs.ipynb\" target=\"_parent\"><img src=\"https://colab.research.google.com/assets/colab-badge.svg\" alt=\"Open In Colab\"/></a>"
      ]
    },
    {
      "cell_type": "markdown",
      "source": [],
      "metadata": {
        "id": "mleAT0MzKcih"
      }
    },
    {
      "cell_type": "markdown",
      "source": [
        "**1.What is the primary goal of Object-Oriented Programming (OOP)?**\n",
        "\n",
        "The primary goal of object oriented programming is to provide a way to structure and organize the code by representing real world objects as software objects.OOP promotes code reusability, modularity, and maintainability, making it easier to design, implement, and maintain complex software systems\n",
        "\n",
        "The main objective of oops is\n",
        "1.Encapulation\n",
        "2.Inheritence\n",
        "3.Polymorphism\n",
        "4.Abstartction"
      ],
      "metadata": {
        "id": "gh93PV1RKePJ"
      }
    },
    {
      "cell_type": "markdown",
      "source": [
        "**2.What is an object in Python?**\n",
        "In Python, an object is a fundamental concept that represents a specific instance of a class. It is a self-contained entity that combines data (attributes) and operations (methods) that can be performed on that data. Objects are created based on a class definition, which serves as a blueprint or template for creating instances of that class."
      ],
      "metadata": {
        "id": "ZKMDaGkvTOkl"
      }
    },
    {
      "cell_type": "markdown",
      "source": [
        "**3.What is a class in Python?**\n",
        "In Python, a class is a blueprint or a template that defines the properties (attributes) and behaviors (methods) that objects of that class will have. It provides a way to create user-defined data types with specific characteristics and functionalities\n",
        "\n",
        "A class serves as a blueprint for creating objects (instances) that share common attributes and behaviors. The attributes are defined as variables within the class, and the behaviors are defined as functions (methods) within the class."
      ],
      "metadata": {
        "id": "Nufb_1yTT2gb"
      }
    },
    {
      "cell_type": "markdown",
      "source": [
        "**4.What are attributes and methods in a class?**\n",
        "Attributes:\n",
        "Attributes are variables that hold data associated with an object. They represent the state or properties of an object. Attributes define the data that an object can have, and each object created from a class can have its own set of attribute values.\n",
        "\n",
        "Methods:\n",
        "Methods are functions defined within a class that define the behavior or actions that objects of that class can perform. Methods define the operations that can be executed on the objects."
      ],
      "metadata": {
        "id": "C51-9XwnUT5q"
      }
    },
    {
      "cell_type": "markdown",
      "source": [
        "**5.What is the difference between class variables and instance variables in Python?**\n",
        "\n",
        "Class Variables:\n",
        "Class variables are variables that are shared among all instances (objects) of a class. They are defined within the class but outside of any instance methods. Class variables have the same value for all instances of the class.\n",
        "\n",
        "They are defined at the class level and are shared by all instances of the class.\n",
        "Class variables are accessed using the class name itself or through any instance of the class.\n",
        "If a class variable is modified, the change is reflected in all instances of the class.\n",
        "Class variables are typically used to define attributes or properties that are common to all objects of the class.\n",
        "\n",
        "Instance Variables:\n",
        "Instance variables are variables that belong to individual instances (objects) of a class. They are defined within the instance methods or the class constructor (__init__ method). Instance variables have distinct values for each object of the class.\n",
        "\n",
        "They are specific to each instance (object) of the class.\n",
        "Instance variables are accessed using the object (instance) name.\n",
        "Each instance can have different values for instance variables.\n",
        "Instance variables are typically used to store unique data or attributes for each object."
      ],
      "metadata": {
        "id": "j2O3NPOgUtbU"
      }
    },
    {
      "cell_type": "markdown",
      "source": [
        "**6.What is the purpose of the self parameter in Python class methods?**\n",
        "\n",
        "The self parameter is the first parameter of instance methods in Python, and by convention, it is named self. However, you can choose a different name.\n",
        "It acts as a reference to the current object, allowing access to its attributes and other methods within the class.\n",
        "\n",
        "Accessing Instance Variables and\n",
        "Calling Other Methods: With self"
      ],
      "metadata": {
        "id": "q3-nG6f7VwFS"
      }
    },
    {
      "cell_type": "markdown",
      "source": [
        "7. For a library management system, you have to design the \"Book\" class with OOP\n",
        "principles in mind. The “Book” class will have following attributes:\n",
        "a. title: Represents the title of the book.\n",
        "b. author: Represents the author(s) of the book.\n",
        "c. isbn: Represents the ISBN (International Standard Book Number) of the book.\n",
        "d. publication_year: Represents the year of publication of the book.\n",
        "e. available_copies: Represents the number of copies available for checkout.\n",
        "The class will also include the following methods:\n",
        "a. check_out(self): Decrements the available copies by one if there are copies\n",
        "available for checkout.\n",
        "b. return_book(self): Increments the available copies by one when a book is\n",
        "returned.\n",
        "c. display_book_info(self): Displays the information about the book, including its\n",
        "attributes and the number of available copies."
      ],
      "metadata": {
        "id": "MWcAhgcuY_Pj"
      }
    },
    {
      "cell_type": "code",
      "source": [
        "class Book:\n",
        "    def __init__(self, title, author, isbn, publication_year, available_copies):\n",
        "        self.title = title\n",
        "        self.author = author\n",
        "        self.isbn = isbn\n",
        "        self.publication_year = publication_year\n",
        "        self.available_copies = available_copies\n",
        "\n",
        "    def check_out(self):\n",
        "        if self.available_copies > 0:\n",
        "            self.available_copies -= 1\n",
        "            print(f\"Book {self.title} checked out successfully.\")\n",
        "        else:\n",
        "            print(f\"No copies of the book {self.title} are currently available.\")\n",
        "\n",
        "    def return_book(self):\n",
        "        self.available_copies += 1\n",
        "        print(f\"Book {self.title} returned successfully.\")\n",
        "\n",
        "    def display_book_info(self):\n",
        "        print(\"Title:\", self.title)\n",
        "        print(\"Author(s):\", self.author)\n",
        "        print(\"ISBN:\", self.isbn)\n",
        "        print(\"Publication Year:\", self.publication_year)\n",
        "        print(\"Available Copies:\", self.available_copies)\n",
        "\n",
        "book1 = Book(\"Story about AI\", \"Manoj\", \"978074\", 2023, 3)\n",
        "\n",
        "# Displaying book information\n",
        "book1.display_book_info()\n",
        "\n",
        "# Checking out a book\n",
        "book1.check_out()\n",
        "\n",
        "# Returning the book\n",
        "book1.return_book()\n",
        "\n",
        "# Displaying updated book information\n",
        "book1.display_book_info()\n"
      ],
      "metadata": {
        "colab": {
          "base_uri": "https://localhost:8080/"
        },
        "id": "u3_8Rt1CXXl7",
        "outputId": "526a46e6-d5e2-4631-916a-fe729992f6f5"
      },
      "execution_count": null,
      "outputs": [
        {
          "output_type": "stream",
          "name": "stdout",
          "text": [
            "Title: Story about AI\n",
            "Author(s): Manoj\n",
            "ISBN: 978074\n",
            "Publication Year: 2023\n",
            "Available Copies: 3\n",
            "Book Story about AI checked out successfully.\n",
            "Book Story about AI returned successfully.\n",
            "Title: Story about AI\n",
            "Author(s): Manoj\n",
            "ISBN: 978074\n",
            "Publication Year: 2023\n",
            "Available Copies: 3\n"
          ]
        }
      ]
    },
    {
      "cell_type": "markdown",
      "source": [
        "For a ticket booking system, you have to design the \"Ticket\" class with OOP\n",
        "principles in mind. The “Ticket” class should have the following attributes:\n",
        "\n",
        "a. ticket_id: Represents the unique identifier for the ticket.\n",
        "\n",
        "b. event_name: Represents the name of the event.\n",
        "\n",
        "c. event_date: Represents the date of the event.\n",
        "\n",
        "d. venue: Represents the venue of the event.\n",
        "\n",
        "e. seat_number: Represents the seat number associated with the ticket.\n",
        "\n",
        "f. price: Represents the price of the ticket.\n",
        "\n",
        "g. is_reserved: Represents the reservation status of the ticket.\n",
        "\n",
        "The class also includes the following methods:\n",
        "a. reserve_ticket(self): Marks the ticket as reserved if it is not already reserved.\n",
        "\n",
        "b. cancel_reservation(self): Cancels the reservation of the ticket if it is already\n",
        "reserved.\n",
        "\n",
        "c. display_ticket_info(self): Displays the information about the ticket, including its\n",
        "attributes and reservation status."
      ],
      "metadata": {
        "id": "X-J5Kz_kV2j5"
      }
    },
    {
      "cell_type": "markdown",
      "source": [],
      "metadata": {
        "id": "FL-sqxVrKYlL"
      }
    },
    {
      "cell_type": "code",
      "source": [
        "class Ticket:\n",
        "  def __init__(self,ticket_id,event_name,event_date,venue,seat_number,price,is_reserved):\n",
        "    self.ticket_id = ticket_id\n",
        "    self.event_name = event_name\n",
        "    self.event_date = event_date\n",
        "    self.venue = venue\n",
        "    self.seat_number = seat_number\n",
        "    self.price = price\n",
        "    self.is_reserved = is_reserved\n",
        "\n",
        "  def reserve_ticket(self):\n",
        "    if self.is_reserved is True:\n",
        "      print(\"The Ticket is already reserved\")\n",
        "    else:\n",
        "      print(\"Ticket is booked successfully\")\n",
        "      self.is_reserved = True\n",
        "\n",
        "  def cancel_reservation(self):\n",
        "    if self.is_reserved is True:\n",
        "      print(\"Ticket is cancelled successfully\")\n",
        "      self.is_reserved =False\n",
        "    else:\n",
        "      print(\"Invalid Ticket\")\n",
        "\n",
        "  def display_ticket_info(self):\n",
        "    print(\"ticket_id:\",self.ticket_id)\n",
        "    print(\"event_name:\",self.event_name)\n",
        "    print(\"event_date:\",self.event_date)\n",
        "    print(\"venue:\",self.venue)\n",
        "    print(\"seat_number:\",self.seat_number)\n",
        "    print(\"price:\",self.price)\n",
        "    if self.is_reserved is False:\n",
        "      print(f\"{self.ticket_id} is Available to Book\")\n",
        "    else:\n",
        "      print(f\"{self.ticket_id} is Not Available to Book\")\n",
        "\n",
        "\n",
        "\n",
        "ticket = Ticket(1234,\"BigBoss\",\"12/12/2023\",\"Chennai\",12,1200,False)\n",
        "print(\"Available Tickets Before Booking\")\n",
        "ticket.display_ticket_info()\n",
        "ticket.reserve_ticket()\n",
        "print(\"=====================================\")\n",
        "print(\"Availble tickets after cancellation\")\n",
        "ticket.cancel_reservation()\n",
        "ticket.display_ticket_info()\n",
        "\n",
        "\n",
        "\n",
        "\n"
      ],
      "metadata": {
        "colab": {
          "base_uri": "https://localhost:8080/"
        },
        "id": "c-ANu_BlWCAP",
        "outputId": "931f6baf-c418-4b3b-e661-d3654e49f716"
      },
      "execution_count": 5,
      "outputs": [
        {
          "output_type": "stream",
          "name": "stdout",
          "text": [
            "Available Tickets Before Booking\n",
            "ticket_id: 1234\n",
            "event_name: BigBoss\n",
            "event_date: 12/12/2023\n",
            "venue: Chennai\n",
            "seat_number: 12\n",
            "price: 1200\n",
            "1234 is Available to Book\n",
            "Ticket is booked successfully\n",
            "=====================================\n",
            "Availble tickets after cancellation\n",
            "Ticket is cancelled successfully\n",
            "ticket_id: 1234\n",
            "event_name: BigBoss\n",
            "event_date: 12/12/2023\n",
            "venue: Chennai\n",
            "seat_number: 12\n",
            "price: 1200\n",
            "1234 is Available to Book\n"
          ]
        }
      ]
    },
    {
      "cell_type": "markdown",
      "source": [
        "You are creating a shopping cart for an e-commerce website. Using OOP to model\n",
        "the \"ShoppingCart\" functionality the class should contain following attributes and\n",
        "methods:\n",
        "\n",
        "a. items: Represents the list of items in the shopping cart.\n",
        "The class also includes the following methods:\n",
        "\n",
        "a. add_item(self, item): Adds an item to the shopping cart by appending it to the\n",
        "list of items.\n",
        "\n",
        "b. remove_item(self, item): Removes an item from the shopping cart if it exists in\n",
        "the list.\n",
        "\n",
        "c. view_cart(self): Displays the items currently present in the shopping cart.\n",
        "\n",
        "d. clear_cart(self): Clears all items from the shopping cart by reassigning an\n",
        "empty list to the items attribute.\n"
      ],
      "metadata": {
        "id": "0JqXXI6McEiU"
      }
    },
    {
      "cell_type": "code",
      "source": [
        "class ShoppingCart:\n",
        "  def __init__(self,items):\n",
        "    self.items = items\n",
        "\n",
        "  def add_item(self,item):\n",
        "    self.items.append(item)\n",
        "    print(\"Item Added to the cart successfully\")\n",
        "\n",
        "  def remove_item(self,item):\n",
        "    if item in self.items:\n",
        "        self.items.remove(item)\n",
        "        print(\"Item removed successfully\")\n",
        "    else:\n",
        "      print(\"No Matching items\")\n",
        "  def view_cart(self):\n",
        "    print(\"Items are in carts are \")\n",
        "    for i in range (len(self.items)):\n",
        "      print(self.items[i])\n",
        "  def clear_cart(self):\n",
        "    self.items.clear()\n",
        "    print(\"Cart cleard and empty\")\n",
        "\n",
        "items = [\"Apple\",\"orange\",\"oil\",\"curd\",\"chilli\"]\n",
        "shoppingcart = ShoppingCart(items)\n",
        "shoppingcart.add_item(\"new oil\")\n",
        "shoppingcart.view_cart()\n",
        "shoppingcart.remove_item(\"oil\")\n",
        "shoppingcart.view_cart()\n",
        "shoppingcart.clear_cart()\n",
        "\n",
        "\n",
        "\n"
      ],
      "metadata": {
        "colab": {
          "base_uri": "https://localhost:8080/"
        },
        "id": "-UX42fQvcmKw",
        "outputId": "7ce8ecf4-73a9-4a0f-80dd-8caf8442246e"
      },
      "execution_count": 10,
      "outputs": [
        {
          "output_type": "stream",
          "name": "stdout",
          "text": [
            "Item Added to the cart successfully\n",
            "Items are in carts are \n",
            "Apple\n",
            "orange\n",
            "oil\n",
            "curd\n",
            "chilli\n",
            "new oil\n",
            "Item removed successfully\n",
            "Items are in carts are \n",
            "Apple\n",
            "orange\n",
            "curd\n",
            "chilli\n",
            "new oil\n",
            "Cart cleard and empty\n"
          ]
        }
      ]
    },
    {
      "cell_type": "markdown",
      "source": [
        "10. Imagine a school management system. You have to design the \"Student\" class using\n",
        "OOP concepts.The “Student” class has the following attributes:\n",
        "\n",
        "a. name: Represents the name of the student.\n",
        "\n",
        "b. age: Represents the age of the student.\n",
        "\n",
        "c. grade: Represents the grade or class of the student.\n",
        "\n",
        "d. student_id: Represents the unique identifier for the student.\n",
        "\n",
        "e. attendance: Represents the attendance record of the student.\n",
        "\n",
        "The class should also include the following methods:\n",
        "\n",
        "a. update_attendance(self, date, status): Updates the attendance record of the\n",
        "student for a given date with the provided status (e.g., present or absent).\n",
        "\n",
        "b. get_attendance(self): Returns the attendance record of the student.\n",
        "\n",
        "c. get_average_attendance(self): Calculates and returns the average\n",
        "attendance percentage of the student based on their attendance record."
      ],
      "metadata": {
        "id": "O-IL6ayAo9uS"
      }
    },
    {
      "cell_type": "code",
      "source": [
        "class Student:\n",
        "    def __init__(self, name, age, grade, student_id):\n",
        "        self.name = name\n",
        "        self.age = age\n",
        "        self.grade = grade\n",
        "        self.student_id = student_id\n",
        "        self.attendance = {}\n",
        "\n",
        "    def update_attendance(self, date, status):\n",
        "        self.attendance[date] = status\n",
        "\n",
        "    def get_attendance(self):\n",
        "        print(f\"Attendance recored for the {self.name} is\")\n",
        "        for k, v in self.attendance.items():\n",
        "            print(k,\" \",v)\n",
        "\n",
        "    def get_average_attendance(self):\n",
        "        total_days = len(self.attendance)\n",
        "        present_days = sum(status == \"present\" for status in self.attendance.values())\n",
        "        try:\n",
        "            Average_attendance = (present_days / total_days) * 100\n",
        "\n",
        "        except Exception as e:\n",
        "            print(\"Exception occured\")\n",
        "            Average_attendance = 0\n",
        "        finally:\n",
        "            return Average_attendance\n",
        "\n",
        "\n",
        "students = Student(\"manoj\",25,\"A\",1234)\n",
        "students.update_attendance(\"01-07-2023\",\"present\")\n",
        "students.update_attendance(\"02-07-2023\",\"absent\")\n",
        "students.update_attendance(\"03-07-2023\",\"present\")\n",
        "students.update_attendance(\"04-07-2023\",\"absent\")\n",
        "students.update_attendance(\"05-07-2023\",\"present\")\n",
        "students.get_attendance()\n",
        "print(\"The average attendance is\",students.get_average_attendance())\n",
        "\n"
      ],
      "metadata": {
        "colab": {
          "base_uri": "https://localhost:8080/"
        },
        "id": "1WPGyzfHpJBk",
        "outputId": "a7eba438-62db-437d-866c-26f2988eb0a6"
      },
      "execution_count": 14,
      "outputs": [
        {
          "output_type": "stream",
          "name": "stdout",
          "text": [
            "Attendance recored for the manoj is\n",
            "01-07-2023   present\n",
            "02-07-2023   absent\n",
            "03-07-2023   present\n",
            "04-07-2023   absent\n",
            "05-07-2023   present\n",
            "The average attendance is 60.0\n"
          ]
        }
      ]
    }
  ]
}