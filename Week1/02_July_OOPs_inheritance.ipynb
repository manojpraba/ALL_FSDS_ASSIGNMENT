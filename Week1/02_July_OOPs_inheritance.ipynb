{
  "nbformat": 4,
  "nbformat_minor": 0,
  "metadata": {
    "colab": {
      "provenance": [],
      "authorship_tag": "ABX9TyOU4raKFdhFNP2+0uP700sZ",
      "include_colab_link": true
    },
    "kernelspec": {
      "name": "python3",
      "display_name": "Python 3"
    },
    "language_info": {
      "name": "python"
    }
  },
  "cells": [
    {
      "cell_type": "markdown",
      "metadata": {
        "id": "view-in-github",
        "colab_type": "text"
      },
      "source": [
        "<a href=\"https://colab.research.google.com/github/manojpraba/ALL_FSDS_ASSIGNMENT/blob/main/Week1/02_July_OOPs_inheritance.ipynb\" target=\"_parent\"><img src=\"https://colab.research.google.com/assets/colab-badge.svg\" alt=\"Open In Colab\"/></a>"
      ]
    },
    {
      "cell_type": "code",
      "execution_count": null,
      "metadata": {
        "id": "UwtDNJddDlQ7"
      },
      "outputs": [],
      "source": []
    },
    {
      "cell_type": "markdown",
      "source": [
        "**1.Explain what inheritance is in object-oriented programming and why it is used.**\n",
        "\n",
        "Inheritence allows a class to inherit properties and behaviors from another class. It enables the creation of hierarchical relationships between classes.When a class inherits from another class, it gains access to all the attributes and methods defined in the base class. The derived class can then add its own unique attributes and methods, as well as override or extend the behavior of the inherited ones.\n",
        "\n",
        "Uses of Inheritence.\n",
        "code reuse, modularity, extensibility, and polymorphism. It helps to organize and structure code, simplify maintenance, and facilitate the creation of complex software systems"
      ],
      "metadata": {
        "id": "2BxGd3jRO-ZR"
      }
    },
    {
      "cell_type": "markdown",
      "source": [
        "**2.Discuss the concept of single inheritance and multiple inheritance, highlighting their differences and advantages.**\n",
        "\n",
        "Single Inheritence where as a class can inherit properities and behaviours from single parent class in other words a derived class have only one base class.\n",
        "\n",
        "Multiple inheritence a class can inherit properties and behaviours from more then one base classes in other words a derived class can have multiple parent class.\n",
        "\n",
        "Number of Base Classes: Single inheritance allows only one base class, while multiple inheritance allows multiple base classes.\n",
        "\n",
        "Class Hierarchy: Single inheritance forms a linear hierarchy, whereas multiple inheritance forms a more complex hierarchy, often represented as a directed acyclic graph.\n",
        "\n",
        "Complexity: Single inheritance is simpler and easier to manage, whereas multiple inheritance can introduce complexity\n",
        "\n",
        "Advantages of single inheritence - simplicity, code reuseability,Avoidance of Diamond Problem\n",
        "\n",
        "Advantages of Multiple inheritence - code resuablility, polymorphism,Enhanced Functionality\n",
        "\n",
        "\n"
      ],
      "metadata": {
        "id": "wzGkT4uoQe6-"
      }
    },
    {
      "cell_type": "markdown",
      "source": [
        "**3.Explain the terms \"base class\" and \"derived class\" in the context of inheritance.**\n",
        "Base Class:\n",
        "A base class, also known as a parent class or super class, is the class from which other classes inherit properties and behavior. It serves as a template or blueprint for the derived classes. The base class defines common attributes, methods, and behavior that can be shared among multiple derived classes\n",
        "\n",
        "Derived Class:\n",
        "A derived class, also known as a child class or subclass, is a class that inherits properties and behavior from a base class. It extends or specializes the functionality of the base class by adding new attributes, methods, or overriding existing ones"
      ],
      "metadata": {
        "id": "fhefdSPZFTIu"
      }
    },
    {
      "cell_type": "markdown",
      "source": [
        "**What is the significance of the \"protected\" access modifier in inheritance? How does it differ from \"private\" and \"public\" modifiers?**\n",
        "\n",
        "Private Access Modifier:\n",
        "When a member of a class is declared as \"private,\" it can only be accessed within the same class. It is not accessible in derived classes. Private members are encapsulated and hidden from external classes, including derived classes.\n",
        "\n",
        "Protected Access Modifier:\n",
        "The \"protected\" access modifier allows a member of a class to be accessible within the same class, as well as in derived classes. In other words, protected members are visible to the class that defines them and any class derived from it\n",
        "\n",
        "Protected members are useful when you want to provide access to certain attributes or methods to derived classes but restrict access to external classes.\n",
        "\n",
        "Public Access Modifier:\n",
        "The \"public\" access modifier provides the highest level of visibility and accessibility. Public members are accessible within the class that defines them, in derived classes, and from external classes. They have no restrictions on access, allowing any class to access them."
      ],
      "metadata": {
        "id": "uv2IJYfcIXEC"
      }
    },
    {
      "cell_type": "markdown",
      "source": [
        "**5. What is the purpose of the \"super\" keyword in inheritance? Provide an example.**\n",
        "In inheritance, the \"super\" keyword is used to refer to the immediate parent class of a derived class. It provides a way to access and invoke the members (attributes and methods) of the base class from the derived class.\n"
      ],
      "metadata": {
        "id": "05RMcR7EJHEg"
      }
    },
    {
      "cell_type": "code",
      "source": [
        "class Vehicle:\n",
        "    def __init__(self, brand):\n",
        "        self.brand = brand\n",
        "\n",
        "    def display_info(self):\n",
        "        print(\"Brand:\", self.brand)\n",
        "\n",
        "\n",
        "class Car(Vehicle):\n",
        "    def __init__(self, brand, year):\n",
        "        super().__init__(brand)\n",
        "        self.year = year\n",
        "\n",
        "    def display_info(self):\n",
        "        super().display_info()\n",
        "        print(\"Year:\", self.year)\n",
        "\n",
        "\n",
        "car = Car(\"Toyota\", 2020)\n",
        "car.display_info()"
      ],
      "metadata": {
        "id": "hUK0klq6J2ZR",
        "outputId": "9b1e6542-bc63-4464-a7b6-f23fa41bc66b",
        "colab": {
          "base_uri": "https://localhost:8080/"
        }
      },
      "execution_count": null,
      "outputs": [
        {
          "output_type": "stream",
          "name": "stdout",
          "text": [
            "Brand: Toyota\n",
            "Year: 2020\n"
          ]
        }
      ]
    },
    {
      "cell_type": "markdown",
      "source": [
        "**6. Create a base class called \"Vehicle\" with attributes like \"make\", \"model\", and \"year\".\n",
        "Then, create a derived class called \"Car\" that inherits from \"Vehicle\" and adds an\n",
        "attribute called \"fuel_type\". Implement appropriate methods in both classes.**"
      ],
      "metadata": {
        "id": "nRA6BES3muQu"
      }
    },
    {
      "cell_type": "code",
      "source": [
        "class vehicle:\n",
        "  def __init__(self,make,model,year):\n",
        "    self.make = make\n",
        "    self.model = model\n",
        "    self.year = year\n",
        "  def car_info(self,fuel_type):\n",
        "    print(f\"The Car make is {self.make}, model is {self.model} and year is {self.year} and fuel type is {fuel_type}\")\n",
        "\n",
        "class Car(vehicle):\n",
        "  def __init__(self,make,model,year,fuel_type):\n",
        "    super().__init__(make,model,year)\n",
        "    self.fuel_type = fuel_type\n",
        "\n",
        "  def display_carinfo(self):\n",
        "    super().car_info(self.fuel_type)\n",
        "\n",
        "  def update_fuel_type(self):\n",
        "    print(\"After updating fuel type\")\n",
        "    if self.fuel_type == \"Petrol\":\n",
        "      self.fuel_type = \"Diesel\"\n",
        "\n",
        "\n",
        "car = Car(\"JAPAN\",\"BMW\",1998,\"Petrol\")\n",
        "car.display_carinfo()\n",
        "car.update_fuel_type()\n",
        "car.display_carinfo()\n",
        ""
      ],
      "metadata": {
        "colab": {
          "base_uri": "https://localhost:8080/"
        },
        "id": "0WGYDaccm5So",
        "outputId": "1dd9286b-44cb-4067-8fe0-05fabe40bc13"
      },
      "execution_count": 10,
      "outputs": [
        {
          "output_type": "stream",
          "name": "stdout",
          "text": [
            "The Car make is JAPAN, model is BMW and year is 1998 and fuel type is Petrol\n",
            "After updating fuel type\n",
            "The Car make is JAPAN, model is BMW and year is 1998 and fuel type is Diesel\n"
          ]
        }
      ]
    },
    {
      "cell_type": "markdown",
      "source": [
        "**7. Create a base class called \"Employee\" with attributes like \"name\" and \"salary.\"\n",
        "Derive two classes, \"Manager\" and \"Developer,\" from \"Employee.\" Add an additional\n",
        "attribute called \"department\" for the \"Manager\" class and \"programming_language\"\n",
        "for the \"Developer\" class.**"
      ],
      "metadata": {
        "id": "CMM0zuNvGTOW"
      }
    },
    {
      "cell_type": "code",
      "source": [
        "class Employee:\n",
        "  def __init__(self,name,salary):\n",
        "    self.name = name\n",
        "    self.salary = salary\n",
        "\n",
        "  def display_details(self,value):\n",
        "    print(f\"name is {self.name}, salary is {self.salary} and manager/Developer is {value}\")\n",
        "\n",
        "class Manager(Employee):\n",
        "\n",
        "  def __init__(self,name,salary,department):\n",
        "    super().__init__(name,salary)\n",
        "    self.department = department\n",
        "    super().display_details(self.department)\n",
        "\n",
        "class Developer(Employee):\n",
        "\n",
        "  def __init__(self,name,salary,programming_language):\n",
        "    super().__init__(name,salary)\n",
        "    self.programming_language = programming_language\n",
        "    super().display_details(self.programming_language)\n",
        "\n",
        "developer = Developer(\"manoj\",\"1200\",\"Python\")\n",
        "manager = Manager(\"Jeyasri\",\"1500\",\"IT\")\n",
        "\n",
        "\n",
        "\n",
        "\n"
      ],
      "metadata": {
        "colab": {
          "base_uri": "https://localhost:8080/"
        },
        "id": "Oa849pYrGWgW",
        "outputId": "6ccf3244-c9d5-4116-901e-ac98a3f5d57e"
      },
      "execution_count": 15,
      "outputs": [
        {
          "output_type": "stream",
          "name": "stdout",
          "text": [
            "name is manoj, salary is 1200 and manager/Developer is Python\n",
            "name is Jeyasri, salary is 1500 and manager/Developer is IT\n"
          ]
        }
      ]
    },
    {
      "cell_type": "markdown",
      "source": [
        "**8. Design a base class called \"Shape\" with attributes like \"colour\" and \"border_width.\"\n",
        "Create derived classes, \"Rectangle\" and \"Circle,\" that inherit from \"Shape\" and add\n",
        "specific attributes like \"length\" and \"width\" for the \"Rectangle\" class and \"radius\" for\n",
        "the \"Circle\" class.**"
      ],
      "metadata": {
        "id": "iG31tcepJx2F"
      }
    },
    {
      "cell_type": "code",
      "source": [
        "class Shape:\n",
        "  def __init__(self,color,border_width):\n",
        "    self.color = color\n",
        "    self.border_width = border_width\n",
        "\n",
        "class Rectange(Shape):\n",
        "  def __init__(self,color,border_width,length,width):\n",
        "    super().__init__(color,border_width)\n",
        "    self.length = length\n",
        "    self.width = width\n",
        "\n",
        "  def rectdiplay_info(self):\n",
        "    print(f\"Rectangle color is {self.color} and borderwidth is {self.border_width} and legth and widht is {self.length},{self.width}\")\n",
        "\n",
        "class Circle(Shape):\n",
        "  def __init__(self,color,border_width,radius):\n",
        "    super().__init__(color,border_width)\n",
        "    self.radius = radius\n",
        "\n",
        "  def diplay_info(self):\n",
        "    print(f\"Circle color is {self.color} and borderwidth is {self.border_width} and radius is {self.radius}\")\n",
        "\n",
        "circle = Circle(\"White\",1.25,\"25rts\")\n",
        "circle.diplay_info()\n",
        "rectangle = Rectange(\"Red\",1.25,25,30)\n",
        "rectangle.rectdiplay_info()\n",
        "\n",
        "\n"
      ],
      "metadata": {
        "colab": {
          "base_uri": "https://localhost:8080/"
        },
        "id": "-Sl3SjwdPvAJ",
        "outputId": "f6f94bbc-2cef-4fd1-d8f1-6d0b09edfb27"
      },
      "execution_count": 30,
      "outputs": [
        {
          "output_type": "stream",
          "name": "stdout",
          "text": [
            "Circle color is White and borderwidth is 1.25 and radius is 25rts\n",
            "Rectangle color is Red and borderwidth is 1.25 and legth and widht is 25,30\n"
          ]
        }
      ]
    },
    {
      "cell_type": "markdown",
      "source": [
        "**9. Create a base class called \"Device\" with attributes like \"brand\" and \"model.\" Derive\n",
        "two classes, \"Phone\" and \"Tablet,\" from \"Device.\" Add specific attributes like\n",
        "\"screen_size\" for the \"Phone\" class and \"battery_capacity\" for the \"Tablet\" class.**"
      ],
      "metadata": {
        "id": "351ZbJ5LWWCf"
      }
    },
    {
      "cell_type": "code",
      "source": [
        "class Device:\n",
        "  def __init__(self,brand,model):\n",
        "    self.brand = brand\n",
        "    self.model = model\n",
        "\n",
        "  def display_details(self,value):\n",
        "    if value == \"6inch\":\n",
        "      print(f\" The phone name is {self.brand}, model is {self.model} and screensize is {value}\")\n",
        "    else:\n",
        "      print(f\" The Tablet name is {self.brand}, model is {self.model} and bateery is {value}\")\n",
        "\n",
        "\n",
        "class Phone(Device):\n",
        "  def __init__(self,brand,model,screen_size):\n",
        "    super().__init__(brand,model)\n",
        "    self.screen_size = screen_size\n",
        "\n",
        "  def disply(self):\n",
        "    super().display_details(self.screen_size)\n",
        "\n",
        "class Tablet(Device):\n",
        "\n",
        "  def __init__(self,brand,model,battery_capacity):\n",
        "    super().__init__(brand,model)\n",
        "    self.battery_capacity = battery_capacity\n",
        "\n",
        "  def display(self):\n",
        "      super().display_details(self.battery_capacity)\n",
        "\n",
        "tablet = Tablet(\"Sony\",\"x20\",\"5200MAH\")\n",
        "tablet.display()\n",
        "phone = Phone(\"Sony\",\"A47\",\"6inch\")\n",
        "phone.disply()\n"
      ],
      "metadata": {
        "colab": {
          "base_uri": "https://localhost:8080/"
        },
        "id": "S45UEk5SWca-",
        "outputId": "1d9315be-556a-4b05-de28-f112e28643fb"
      },
      "execution_count": 39,
      "outputs": [
        {
          "output_type": "stream",
          "name": "stdout",
          "text": [
            " The Tablet name is Sony, model is x20 and bateery is 5200MAH\n",
            " The phone name is Sony, model is A47 and screensize is 6inch\n"
          ]
        }
      ]
    },
    {
      "cell_type": "markdown",
      "source": [
        "**10. Create a base class called \"BankAccount\" with attributes like \"account_number\" and\n",
        "\"balance.\" Derive two classes, \"SavingsAccount\" and \"CheckingAccount,\" from\n",
        "\"BankAccount.\" Add specific methods like \"calculate_interest\" for the\n",
        "\"SavingsAccount\" class and \"deduct_fees\" for the \"CheckingAccount\" class.**"
      ],
      "metadata": {
        "id": "WZ5QnSdZhZLQ"
      }
    },
    {
      "cell_type": "code",
      "source": [
        "class BankAccount:\n",
        "  def __init__(self,account_number,balance):\n",
        "    self.account_number = account_number\n",
        "    self.balance = balance\n",
        "\n",
        "  def display_balance(self):\n",
        "    print(f\"Account_number is {self.account_number} and available balance is {self.balance}\")\n",
        "\n",
        "\n",
        "class SavingsAccount(BankAccount):\n",
        "  def __init__(self,account_number,balance):\n",
        "    super().__init__(account_number,balance)\n",
        "\n",
        "  def calculate_interest(self,interestvalue):\n",
        "\n",
        "    interest =self.balance*interestvalue\n",
        "    self.balance += interest\n",
        "    super().display_balance()\n",
        "\n",
        "\n",
        "\n",
        "\n",
        "class Checking_Account(BankAccount):\n",
        "  def __init__(self,account_number,balance):\n",
        "    super().__init__(account_number,balance)\n",
        "\n",
        "  def deduct_fees(self,feeamount):\n",
        "    self.balance -= feeamount\n",
        "    super().display_balance()\n",
        "\n",
        "savings_account = SavingsAccount(\"123456\",30000)\n",
        "savings_account.calculate_interest(0.7)\n",
        "\n",
        "checking_account = Checking_Account(\"56789\",40000)\n",
        "checking_account.deduct_fees(1000)\n",
        "\n",
        "\n",
        "\n",
        "\n"
      ],
      "metadata": {
        "colab": {
          "base_uri": "https://localhost:8080/"
        },
        "id": "LJ4J1lXZhdVL",
        "outputId": "b76b1da7-5e82-4daa-d9dc-35c647b7d453"
      },
      "execution_count": 42,
      "outputs": [
        {
          "output_type": "stream",
          "name": "stdout",
          "text": [
            "Account_number is 123456 and available balance is 51000.0\n",
            "Account_number is 56789 and available balance is 39000\n"
          ]
        }
      ]
    },
    {
      "cell_type": "markdown",
      "source": [],
      "metadata": {
        "id": "GzTU-E0kO5ja"
      }
    }
  ]
}