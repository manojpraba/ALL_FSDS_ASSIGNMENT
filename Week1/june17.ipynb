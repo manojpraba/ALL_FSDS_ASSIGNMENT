{
  "nbformat": 4,
  "nbformat_minor": 0,
  "metadata": {
    "colab": {
      "provenance": [],
      "authorship_tag": "ABX9TyNTnjgGgJ0lq9u2VS19RYjb",
      "include_colab_link": true
    },
    "kernelspec": {
      "name": "python3",
      "display_name": "Python 3"
    },
    "language_info": {
      "name": "python"
    }
  },
  "cells": [
    {
      "cell_type": "markdown",
      "metadata": {
        "id": "view-in-github",
        "colab_type": "text"
      },
      "source": [
        "<a href=\"https://colab.research.google.com/github/manojpraba/ALL_FSDS_ASSIGNMENT/blob/main/Week1/june17.ipynb\" target=\"_parent\"><img src=\"https://colab.research.google.com/assets/colab-badge.svg\" alt=\"Open In Colab\"/></a>"
      ]
    },
    {
      "cell_type": "markdown",
      "source": [
        "**1.What is the role of try and exception block?**\n",
        "\n",
        "**Try Block** - is used in exception handling mechanisms. It allows you to define a block of code that may potentially raise an exception and provides a way to handle that exception.\n",
        "\n",
        "**Except Block** - Is used to handle the exceptions that may occur within the corresponding try block. When an exception is raised in the try block the program flow is immediately transferred to the except block. If the except block matches the exception, the except block will execute and the except block has the code to handle the exception.\n",
        "\n",
        "\n"
      ],
      "metadata": {
        "id": "vvl7MIO04R7j"
      }
    },
    {
      "cell_type": "code",
      "source": [
        "#Example of try except block\n",
        "try :\n",
        "\n",
        "\n",
        "except Exception as e :"
      ],
      "metadata": {
        "id": "uyoM90fN4ryv"
      },
      "execution_count": null,
      "outputs": []
    },
    {
      "cell_type": "code",
      "source": [
        "#2.What is the syntax for a basic try-except block?\n",
        "try :\n",
        "except Exception as e :\n"
      ],
      "metadata": {
        "id": "R9nBpuVW486I"
      },
      "execution_count": null,
      "outputs": []
    },
    {
      "cell_type": "markdown",
      "source": [
        "**3.What happens if an exception occurs inside a try block and there is no matching except block?**\n",
        "\n",
        "If an exception occurs inside try block and there is no matching except block or no except block, the program flow propagates to the next try block or program will terminate  and display the error message.\n",
        "\n"
      ],
      "metadata": {
        "id": "54hP_OmQ5Nk2"
      }
    },
    {
      "cell_type": "markdown",
      "source": [
        "**4.What is the difference between using a bare except block and specifying a specific exception type?**\n",
        "\n",
        "**Bare Except Block** - When an exception occurs, if there is a bare except block, it will catch the exception regardless of its type. This means that any exception raised within the try block will be handled by the bare except block.\n",
        "\n",
        "Ex:\n",
        "try :\n",
        "\n",
        "except Exception as e :\n",
        "\n",
        "**Specifying Exception**\n",
        "A specific exception type in an except block allows you to catch and handle only the exceptions of that particular type.\n",
        "\n",
        "Ex :\n",
        "try :\n",
        "\n",
        "except ZeroDivisionError as e :\n",
        "\n"
      ],
      "metadata": {
        "id": "G3Cy22SN5djC"
      }
    },
    {
      "cell_type": "markdown",
      "source": [
        "**5.Can you have nested try-except blocks in Python? If yes, then give an example.**\n",
        "Yes in python have nested try except blocks\n"
      ],
      "metadata": {
        "id": "a2tXUMdR6RbZ"
      }
    },
    {
      "cell_type": "code",
      "source": [
        "try :\n",
        "  outer_variable = 10\n",
        "\n",
        "\n",
        "  try:\n",
        "    inner_variable = 0\n",
        "    outer_variable / inner_variable\n",
        "    print(\"Division Success\")\n",
        "  except ZeroDivisionError as e :\n",
        "    print(\"Inner try exception\",e)\n",
        "  finally:\n",
        "    print(\"Inner finally\")\n",
        "\n",
        "\n",
        "except Exception as e :\n",
        "  print(\"outer except block \",e)\n",
        "finally:\n",
        "  print(\"Outer finally\")"
      ],
      "metadata": {
        "colab": {
          "base_uri": "https://localhost:8080/"
        },
        "id": "ppcL8Bv07FoD",
        "outputId": "0a47f9c7-fc43-4528-f9f6-850c2a4d35bd"
      },
      "execution_count": null,
      "outputs": [
        {
          "output_type": "stream",
          "name": "stdout",
          "text": [
            "Inner try exception division by zero\n",
            "Inner finally\n",
            "Outer finally\n"
          ]
        }
      ]
    },
    {
      "cell_type": "markdown",
      "source": [
        "**6.Can we use multiple exception blocks, if yes then give an example.**\n",
        "Yes python we can use multiple exception blocks\n"
      ],
      "metadata": {
        "id": "knjuPehq7k_O"
      }
    },
    {
      "cell_type": "code",
      "source": [
        "try:\n",
        "  outer_variable = 10\n",
        "\n",
        "except Exception as e:\n",
        "  print(\"outer except block \", e)\n",
        "finally:\n",
        "  print(\"Outer finally\")\n",
        "\n",
        "try:\n",
        "  inner_variable = 0\n",
        "  outer_variable / inner_variable\n",
        "  print(\"Division Success\")\n",
        "except ZeroDivisionError as e:\n",
        "  print(\"Inner try exception\", e)\n",
        "finally:\n",
        "  print(\"Inner finally\")\n"
      ],
      "metadata": {
        "colab": {
          "base_uri": "https://localhost:8080/"
        },
        "id": "hFQ_m5eM7r_Z",
        "outputId": "f49ccfd8-09f8-42a2-afbd-41504963f69c"
      },
      "execution_count": null,
      "outputs": [
        {
          "output_type": "stream",
          "name": "stdout",
          "text": [
            "Outer finally\n",
            "Inner try exception division by zero\n",
            "Inner finally\n"
          ]
        }
      ]
    },
    {
      "cell_type": "markdown",
      "source": [
        "**7.Write the reason due to which following errors are raised:**\n",
        "\n",
        "**EOFError**\n",
        "End of line error - This error occurs when Python has reached the end of user input without receiving any input\n",
        "\n",
        "**FloatingPointError**\n",
        "FloatingPointError is not a built-in exception in python. Mostly ZeroDivisionError\n",
        "\n",
        "\n",
        "**IndexError**\n",
        "It occurs when you attempt to access an element using an invalid or non-existent index.\n",
        "\n",
        "**MemoryError**\n",
        "It occurs when the program tries to allocate more memory than the system can provide.\n",
        "\n",
        "\n",
        "**OverflowError**\n",
        "It occurs when the result of an arithmetic operation too large and exceeds the range of datatype  \n",
        "\n",
        "**TabError**\n",
        "It occurs when tabs and spaces are not used consistently or correctly to define the indentation level within a block of code.\n",
        "\n",
        "**ValueError**\n",
        "It occurs when a function or operation expects a certain value range or format, and the provided value does not meet the required criteria."
      ],
      "metadata": {
        "id": "tGKj4SrO8FS5"
      }
    },
    {
      "cell_type": "markdown",
      "source": [
        "**8.Write code for the following given scenario and add try-exception block to it.**"
      ],
      "metadata": {
        "id": "cTjaphGG8saF"
      }
    },
    {
      "cell_type": "code",
      "source": [
        "#a. Program to divide two numbers\n",
        "try:\n",
        "  a =10\n",
        "  b=0\n",
        "  a/b\n",
        "  print(\"Division Success\")\n",
        "except ZeroDivisionError as e:\n",
        "  print(\"Exception occured\", e)\n",
        "finally:\n",
        "  print(\"finally\")"
      ],
      "metadata": {
        "colab": {
          "base_uri": "https://localhost:8080/"
        },
        "id": "hIF_qtBU83AB",
        "outputId": "619cc7e1-34f4-4e5c-abf7-bd8ecc9c148b"
      },
      "execution_count": null,
      "outputs": [
        {
          "output_type": "stream",
          "name": "stdout",
          "text": [
            "Exception occured division by zero\n",
            "Inner finally\n"
          ]
        }
      ]
    },
    {
      "cell_type": "code",
      "source": [
        "#b.Program to convert a string to an integer\n",
        "user_input = input(\"Enter a number: \")\n",
        "try:\n",
        "  number = int(user_input)\n",
        "  print(\"The converted integer:\", number)\n",
        "except ValueError as e:\n",
        "  print(\"Invalid input. Please enter a valid number.\",e)"
      ],
      "metadata": {
        "colab": {
          "base_uri": "https://localhost:8080/"
        },
        "id": "19OOXVr29bf8",
        "outputId": "d6206036-3116-487b-bc74-832cf5e128cf"
      },
      "execution_count": null,
      "outputs": [
        {
          "output_type": "stream",
          "name": "stdout",
          "text": [
            "Enter a number: manoj\n",
            "Invalid input. Please enter a valid number. invalid literal for int() with base 10: 'manoj'\n"
          ]
        }
      ]
    },
    {
      "cell_type": "code",
      "source": [
        "#c.Program to access an element in a list\n",
        "my_list = [1, 2, 3, 4, 5]\n",
        "try:\n",
        "  index = int(input(\"Enter the index: \"))\n",
        "  element = my_list[index]\n",
        "  print(\"The element at index\", index, \"is\", element)\n",
        "except IndexError as e:\n",
        "  print(\"Index out of range.\",e)\n",
        "except ValueError as e:\n",
        "  print(\"Invalid input. Please enter a valid index.\",e)"
      ],
      "metadata": {
        "colab": {
          "base_uri": "https://localhost:8080/"
        },
        "id": "xNEujjJF9-D9",
        "outputId": "d4a84698-6936-4aa7-a13e-fa388f126c82"
      },
      "execution_count": null,
      "outputs": [
        {
          "output_type": "stream",
          "name": "stdout",
          "text": [
            "Enter the index: 6\n",
            "Index out of range. list index out of range\n"
          ]
        }
      ]
    },
    {
      "cell_type": "code",
      "source": [
        "#d.Program to handle a specific exception\n",
        "#This program will handle index out of range exception.\n",
        "my_list = [1, 2, 3, 4, 5]\n",
        "try:\n",
        "  index = int(input(\"Enter the index: \"))\n",
        "  element = my_list[index]\n",
        "  print(\"The element at index\", index, \"is\", element)\n",
        "except IndexError as e:\n",
        "  print(\"Index out of range.\",e)"
      ],
      "metadata": {
        "id": "J8OPpvU2-bc8"
      },
      "execution_count": null,
      "outputs": []
    },
    {
      "cell_type": "code",
      "source": [
        "#e.Program to handle any exception\n",
        "\n",
        "try:\n",
        "  1/0\n",
        "except Exception as e:\n",
        "  print(\"Exception occur \",e)"
      ],
      "metadata": {
        "colab": {
          "base_uri": "https://localhost:8080/"
        },
        "id": "AEen1rZy-xYJ",
        "outputId": "c0dc759a-f9e9-4ea4-e37d-ef13c27e8483"
      },
      "execution_count": null,
      "outputs": [
        {
          "output_type": "stream",
          "name": "stdout",
          "text": [
            "Exception occur  division by zero\n"
          ]
        }
      ]
    }
  ]
}