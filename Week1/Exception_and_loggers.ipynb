{
  "nbformat": 4,
  "nbformat_minor": 0,
  "metadata": {
    "colab": {
      "provenance": [],
      "authorship_tag": "ABX9TyO1Q/uP7ImDYaGmsGjA9jAH",
      "include_colab_link": true
    },
    "kernelspec": {
      "name": "python3",
      "display_name": "Python 3"
    },
    "language_info": {
      "name": "python"
    }
  },
  "cells": [
    {
      "cell_type": "markdown",
      "metadata": {
        "id": "view-in-github",
        "colab_type": "text"
      },
      "source": [
        "<a href=\"https://colab.research.google.com/github/manojpraba/ALL_FSDS_ASSIGNMENT/blob/main/Week1/Exception_and_loggers.ipynb\" target=\"_parent\"><img src=\"https://colab.research.google.com/assets/colab-badge.svg\" alt=\"Open In Colab\"/></a>"
      ]
    },
    {
      "cell_type": "markdown",
      "source": [
        "**1.What is the role of the 'else' block in a try-except statement? Provide an example scenario where it would be useful.**\n",
        "\n",
        "The Else block in a try except statement is optional and it is executed only if no exception is raised in the corresponding try block. It allows you to specify the block of code that should be executed only when the try block is executed successfully.\n",
        "The role of the else block is to separate the code that may raise an exception from the code that should be executed when no exception occurs.\n",
        "\n"
      ],
      "metadata": {
        "id": "Eif8azcuBJZZ"
      }
    },
    {
      "cell_type": "code",
      "source": [
        "try :\n",
        "  print(\"No exception occurred\")\n",
        "except Exception as e :\n",
        "  pass\n",
        "else :\n",
        "  print(\"else block executed successfully\")"
      ],
      "metadata": {
        "colab": {
          "base_uri": "https://localhost:8080/"
        },
        "id": "azYwZsiABYMn",
        "outputId": "09002047-7a27-4963-a313-c0ad377ce689"
      },
      "execution_count": null,
      "outputs": [
        {
          "output_type": "stream",
          "name": "stdout",
          "text": [
            "No exception occurred\n",
            "else block executed successfully\n"
          ]
        }
      ]
    },
    {
      "cell_type": "markdown",
      "source": [
        "**2.Can a try-except block be nested inside another try-except block? Explain with an example.**\n",
        "\n",
        "Yes\n"
      ],
      "metadata": {
        "id": "JGC6Fs0fBiYP"
      }
    },
    {
      "cell_type": "code",
      "source": [
        "try :\n",
        "  outer_variable = 10\n",
        "  try:\n",
        "    inner_variable = 0\n",
        "    outer_variable / inner_variable\n",
        "    print(\"Division Success\")\n",
        "  except ZeroDivisionError as e :\n",
        "    print(\"Inner try exception\",e)\n",
        "  finally:\n",
        "    print(\"Inner finally\")\n",
        "except Exception as e :\n",
        "  print(\"outer except block \",e)\n",
        "finally:\n",
        "  print(\"Outer finally\")"
      ],
      "metadata": {
        "colab": {
          "base_uri": "https://localhost:8080/"
        },
        "id": "685KXuIOBykz",
        "outputId": "d70a6a7d-fd21-40bd-c4dc-fde19dde627b"
      },
      "execution_count": null,
      "outputs": [
        {
          "output_type": "stream",
          "name": "stdout",
          "text": [
            "Inner try exception division by zero\n",
            "Inner finally\n",
            "Outer finally\n"
          ]
        }
      ]
    },
    {
      "cell_type": "markdown",
      "source": [
        "**3.How can you create a custom exception class in Python? Provide an example that demonstrates its usage.**\n",
        "\n",
        "We can create custom exception by subclassing the base exception class or any of its subclass\n"
      ],
      "metadata": {
        "id": "Cc0okqPqCMod"
      }
    },
    {
      "cell_type": "code",
      "source": [
        "class Custom_Exception(Exception) :\n",
        "  def __init__(self,message) :\n",
        "    self.message = message\n",
        "try :\n",
        "  age = int(input(\"Enter age\"))\n",
        "  if age < 0:\n",
        "    raise Custom_Exception(\"Age can't be negative\")\n",
        "  elif age>100 :\n",
        "    raise Custom_Exception(\"Too old to live\")\n",
        "  else:\n",
        "    print(\"Valid age to live\")\n",
        "except Custom_Exception as e :\n",
        "    print(\"The exception is \",e.message)\n",
        "else:\n",
        "    print(\"No Exception occurred\")"
      ],
      "metadata": {
        "colab": {
          "base_uri": "https://localhost:8080/"
        },
        "id": "F0pUKdacCWGW",
        "outputId": "7149bea3-b6db-4df6-8079-67bc03ddfe35"
      },
      "execution_count": null,
      "outputs": [
        {
          "output_type": "stream",
          "name": "stdout",
          "text": [
            "Enter age35\n",
            "Valid age to live\n",
            "No Exception occurred\n"
          ]
        }
      ]
    },
    {
      "cell_type": "markdown",
      "source": [
        "**4.What are some common exceptions that are built-in to Python?**\n",
        "\n",
        "1.Type Error\n",
        "\n",
        "2.Value Error\n",
        "\n",
        "3.NameError\n",
        "\n",
        "4.IndexError\n",
        "\n",
        "5.MemoryError\n",
        "\n",
        "6.OverFlowError\n",
        "\n",
        "7.KeyError\n",
        "\n",
        "8.ZeroDivisionError\n",
        "\n",
        "9.KeyError\n",
        "\n",
        "10.IOError\n"
      ],
      "metadata": {
        "id": "c3lJLIwoC3BN"
      }
    },
    {
      "cell_type": "markdown",
      "source": [
        "**5.What is logging in Python, and why is it important in software development?**\n",
        "\n",
        "Logging in Python refers to the process of recording log messages during the execution of a program.\n",
        "Logging is important in Debugging and Troubleshooting, Monitoring and Alerting, Error Reporting and Customer Support\n"
      ],
      "metadata": {
        "id": "6QizEuoxDIkN"
      }
    },
    {
      "cell_type": "markdown",
      "source": [
        "**6.Explain the purpose of log levels in Python logging and provide examples of when each log level would be appropriate.**\n",
        "\n",
        "log levels are used to categorize log messages based on their importance and severity.\n",
        "Each log message is associated with a log level.\n",
        "\n",
        "**DEBUG:**The DEBUG level is used for detailed diagnostic information\n",
        "\n",
        "**INFO:**The INFO level is used for informational messages\n",
        "\n",
        "**WARNING:**The WARNING level is used for non-critical issues\n",
        "\n",
        "**ERROR:**The ERROR level is used for errors that occur during the execution\n",
        "\n",
        "**CRITICAL:**The CRITICAL level is used for critical errors that may cause the application to fail\n"
      ],
      "metadata": {
        "id": "o1lu7Z4SDbjx"
      }
    },
    {
      "cell_type": "markdown",
      "source": [
        "**7.What are log formatters in Python logging, and how can you customize the log message format using formatters?**\n",
        "\n",
        "Below are the commonly used log formatters\n",
        "\n",
        "**Asctime** - %(asctime)s :Human-readable time when the log was created. By default this is of the form ‘2003-07-08 16:49:45,896\n",
        "\n",
        "**Created** - %(created)f - Time when the log was created\n",
        "\n",
        "**Filename** -%(filename)s - Filename portion of pathname.\n",
        "\n",
        "**Levelname** - %(levelname)s  -Text logging level for the message ('DEBUG', 'INFO', 'WARNING', 'ERROR', 'CRITICAL').\n",
        "\n",
        "**levelno**  - %(levelno)s -  Numeric logging level for the message (DEBUG, INFO, WARNING, ERROR, CRITICAL).\n",
        "\n",
        "**Message** -  %(message)s -  The logged message, computed as msg % args. This is set when Formatter.format() is invoked\n"
      ],
      "metadata": {
        "id": "DO-EOBP8DxNB"
      }
    },
    {
      "cell_type": "code",
      "source": [
        "#Example\n",
        "import logging\n",
        "logging.basicConfig(filename=\"abc.log\", level=logging.INFO, format=\"%(asctime)s - %(name)s - %(levelname)s - %(message)s\")"
      ],
      "metadata": {
        "id": "tyNcXnYBEP0G"
      },
      "execution_count": null,
      "outputs": []
    },
    {
      "cell_type": "markdown",
      "source": [
        "**8.How can you set up logging to capture log messages from multiple modules or classes in a Python application?**\n",
        "\n",
        "define the below codes in each module/classes to capture the logs from multiple modules\n",
        "\n",
        "import logging\n",
        "\n",
        "logger = logging.getLogger(__name__)\n"
      ],
      "metadata": {
        "id": "effWjAZp-ZzB"
      }
    },
    {
      "cell_type": "code",
      "source": [
        "#main.py\n",
        "import logging\n",
        "import log2\n",
        "\n",
        "logging.basicConfig(filename=\"abc.log\",level=logging.INFO,\n",
        "                        format=\"%(asctime)s - %(name)s - %(levelname)s - %(message)s\")\n",
        "\n",
        "if __name__ == '__main__' :\n",
        "    log2.testlogger()"
      ],
      "metadata": {
        "id": "CY4KABvL_Vzj"
      },
      "execution_count": null,
      "outputs": []
    },
    {
      "cell_type": "code",
      "source": [
        "#other file\n",
        "import logging\n",
        "logger = logging.getLogger(__name__)\n",
        "\n",
        "def testlogger() :\n",
        "    logger.error(\"This is error\")\n",
        "    logger.info(\"This is info\")\n",
        "    logger.error(\"This is error\")\n",
        "    logger.critical(\"This is critical\")\n",
        "    logger.warning(\"This is warning\")\n",
        "    logger.exception(\"This is Exception\")"
      ],
      "metadata": {
        "id": "E1yrt4Nu_D85"
      },
      "execution_count": null,
      "outputs": []
    },
    {
      "cell_type": "markdown",
      "source": [
        "**9.What is the difference between the logging and print statements in Python? When should you use logging over print statements in a real-world application?**\n",
        "\n",
        "**Logging** is used to store the manage and handle messages, warnings, errors, and other log events.Logging allows you to specify different log levels (e.g., DEBUG, INFO, WARNING, ERROR, CRITICAL) for different types of messages.\n",
        "\n",
        "**Print statements**\n",
        "statement is a built-in Python function used to display output on the standard output stream (usually the console)\n",
        "\n",
        "**When should you use logging over print statements in a real-world application?**\n",
        "logging is preferable over print statements in a real-world application when you need better control, flexibility, long-term monitoring, analysis, integration with external tools, and the ability to customize the logging system.\n",
        "\n",
        "\n"
      ],
      "metadata": {
        "id": "VQjq3F-Cph2O"
      }
    },
    {
      "cell_type": "markdown",
      "source": [
        "**10.Write a Python program that logs a message to a file named \"app.log\" with the following requirements:**\n",
        "\n",
        "● The log message should be \"Hello, World!\"\n",
        "\n",
        "● The log level should be set to \"INFO.\"\n",
        "\n",
        "● The log file should append new log entries without overwriting previous ones.\n",
        "\n",
        "\n",
        "\n"
      ],
      "metadata": {
        "id": "QWtHuXaOq2qA"
      }
    },
    {
      "cell_type": "code",
      "source": [
        "import logging\n",
        "logging.basicConfig(filename='app.log',level=logging.INFO,filemode='a')\n",
        "logging.info(\"Hello, World!\")"
      ],
      "metadata": {
        "id": "_-r1XHhIsQZG"
      },
      "execution_count": 2,
      "outputs": []
    },
    {
      "cell_type": "markdown",
      "source": [
        "**11.Create a Python program that logs an error message to the console and a file named \"errors.log\" if an exception occurs during the program's execution. The error message should include the exception type and a timestamp.**"
      ],
      "metadata": {
        "id": "ZjAmIHb2sd9M"
      }
    },
    {
      "cell_type": "code",
      "source": [
        "import logging\n",
        "import datetime\n",
        "logging.basicConfig(level=logging.ERROR, format='%(asctime)s - %(levelname)s - %(message)s')\n",
        "file_handler = logging.FileHandler('errors.log')\n",
        "file_handler.setLevel(logging.ERROR)\n",
        "formatter = logging.Formatter('%(asctime)s - %(levelname)s - %(message)s')\n",
        "file_handler.setFormatter(formatter)\n",
        "logger = logging.getLogger('')\n",
        "logger.addHandler(file_handler)\n",
        "\n",
        "try:\n",
        "\n",
        "    result = 10 / 0\n",
        "\n",
        "except Exception as e:\n",
        "\n",
        "    current_time = datetime.datetime.now().strftime('%Y-%m-%d %H:%M:%S')\n",
        "    error_message = f\"Exception occurred at {current_time}: {type(e).__name__}\"\n",
        "    logging.error(error_message)\n",
        "    logger.error(error_message)"
      ],
      "metadata": {
        "colab": {
          "base_uri": "https://localhost:8080/"
        },
        "id": "NFFAMVJEsdLT",
        "outputId": "d6e293a4-3e40-4a42-9e5b-dcd17c86dbf7"
      },
      "execution_count": 3,
      "outputs": [
        {
          "output_type": "stream",
          "name": "stderr",
          "text": [
            "ERROR:root:Exception occurred at 2023-07-01 13:47:22: ZeroDivisionError\n",
            "ERROR:root:Exception occurred at 2023-07-01 13:47:22: ZeroDivisionError\n"
          ]
        }
      ]
    }
  ]
}